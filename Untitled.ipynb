{
 "cells": [
  {
   "cell_type": "code",
   "execution_count": 1,
   "metadata": {},
   "outputs": [],
   "source": [
    "import pandas as pd\n",
    "import alpaca_trade_api as tradeapi\n",
    "from MCForecastTools import MCSimulation\n",
    "import requests\n",
    "from dotenv import load_dotenv\n",
    "import os\n",
    "import numpy as np\n",
    "import seaborn as sns\n",
    "import yfinance as yf\n",
    "%matplotlib inline"
   ]
  },
  {
   "cell_type": "code",
   "execution_count": 7,
   "metadata": {},
   "outputs": [],
   "source": [
    "def masterAnalysisFunc(tickers, capital, duration):\n",
    "    # run risk analysis computations\n",
    "    df_portfolio = yf.download(tickers, start='2019-05-07', end='2021-05-07')\n",
    "    df_closing = df_portfolio['Adj Close'].dropna()\n",
    "    daily_returns = df_closing.pct_change().dropna()\n",
    "    correlations = daily_returns.corr()\n",
    "    std_deviations = daily_returns.std()\n",
    "    annualized_std = (std_deviations * np.sqrt(252)).sort_values(ascending=False)\n",
    "    sharpe_ratios = ((daily_returns.mean() * 252)) / (daily_returns.std() * np.sqrt(252))\n",
    "    \n",
    "    # create plot for risk analysis\n",
    "    daily_returns_plot = daily_returns.plot.line(figsize=(25,10))\n",
    "    correlations_heatmap = sns.heatmap(correlations, vmin=-1, vmax=1)\n",
    "    sharp_ratios_plot = sharpe_ratios.plot.bar()\n",
    "    \n",
    "    # create sample risk appetite portfolios\n",
    "    low_risk_weights = [.05, .1, .15, .2, .5]\n",
    "    med_risk_weights = [.1, .15, .2, .25, .3]\n",
    "    high_risk_weights = [.3, .25, .2, .15, .1]\n",
    "    volatitly_ranks = annualized_std.index.to_list()\n",
    "    ordered_volatility_df = pd.concat([daily_returns[volatitly_ranks[0]], daily_returns[volatitly_ranks[1]],daily_returns[volatitly_ranks[2]],daily_returns[volatitly_ranks[3]],daily_returns[volatitly_ranks[4]]], axis=1, join='inner')\n",
    "    low_risk_porfolio = ordered_volatility_df.dot(low_risk_weights)\n",
    "    med_risk_porfolio = ordered_volatility_df.dot(med_risk_weights)\n",
    "    high_risk_porfolio = ordered_volatility_df.dot(high_risk_weights)\n",
    "    \n",
    "    #ax = low_risk_porfolio.plot.line(figsize=(25,10))\n",
    "    #med_risk_porfolio.plot.line(ax=ax)\n",
    "    #high_risk_porfolio.plot.line(ax=ax)\n",
    "    "
   ]
  },
  {
   "cell_type": "code",
   "execution_count": 3,
   "metadata": {},
   "outputs": [
    {
     "name": "stdin",
     "output_type": "stream",
     "text": [
      "what do you want to invest in? AAPL BTC-USD ETH-USD TWTR FB\n"
     ]
    }
   ],
   "source": [
    "tickers = input('what do you want to invest in?').split()"
   ]
  },
  {
   "cell_type": "code",
   "execution_count": 4,
   "metadata": {},
   "outputs": [
    {
     "name": "stdin",
     "output_type": "stream",
     "text": [
      "how much do you have to invest? 100000\n"
     ]
    }
   ],
   "source": [
    "capital = int(input('how much do you have to invest?'))"
   ]
  },
  {
   "cell_type": "code",
   "execution_count": 5,
   "metadata": {},
   "outputs": [
    {
     "name": "stdin",
     "output_type": "stream",
     "text": [
      "in years, chose a duration for the forecasting 5\n"
     ]
    }
   ],
   "source": [
    "duration = int(input('in years, chose a duration for the forecasting'))"
   ]
  },
  {
   "cell_type": "code",
   "execution_count": 8,
   "metadata": {},
   "outputs": [
    {
     "name": "stdout",
     "output_type": "stream",
     "text": [
      "[*********************100%***********************]  5 of 5 completed\n"
     ]
    },
    {
     "data": {
      "image/png": "[encoded data removed]",
      "text/plain": [
       "<Figure size 1800x720 with 2 Axes>"
      ]
     },
     "metadata": {
      "needs_background": "light"
     },
     "output_type": "display_data"
    }
   ],
   "source": [
    "masterAnalysisFunc(tickers, capital, duration)"
   ]
  },
  {
   "cell_type": "code",
   "execution_count": null,
   "metadata": {},
   "outputs": [],
   "source": []
  }
 ],
 "metadata": {
  "kernelspec": {
   "display_name": "Python 3",
   "language": "python",
   "name": "python3"
  },
  "language_info": {
   "codemirror_mode": {
    "name": "ipython",
    "version": 3
   },
   "file_extension": ".py",
   "mimetype": "text/x-python",
   "name": "python",
   "nbconvert_exporter": "python",
   "pygments_lexer": "ipython3",
   "version": "3.7.9"
  }
 },
 "nbformat": 4,
 "nbformat_minor": 5
}
