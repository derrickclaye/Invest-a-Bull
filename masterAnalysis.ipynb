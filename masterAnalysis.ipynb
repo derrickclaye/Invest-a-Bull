{
 "cells": [
  {
   "cell_type": "code",
   "execution_count": null,
   "metadata": {},
   "outputs": [],
   "source": [
    "import pandas as pd\n",
    "from MCForecastTools import MCSimulation\n",
    "import requests\n",
    "from dotenv import load_dotenv\n",
    "import os\n",
    "import numpy as np\n",
    "import seaborn as sns\n",
    "import yfinance as yf\n",
    "import panel as pn\n",
    "from panel.interact import interact\n",
    "from panel import widgets\n",
    "import plotly.express as px\n",
    "pn.extension('plotly')\n",
    "\n",
    "from scipy import optimize\n",
    "import datetime\n",
    "import hvplot.pandas\n",
    "%matplotlib inline"
   ]
  },
  {
   "cell_type": "code",
   "execution_count": null,
   "metadata": {},
   "outputs": [],
   "source": [
    "def return_on_lending(amount, interest_rate, duration):\n",
    "    def xnpv(rate, cashflows):\n",
    "        return sum([cf/(1+rate)**((t-cashflows[0][0]).days/365.0) for (t,cf) in cashflows])\n",
    " \n",
    "    def xirr(cashflows, guess=0.1):\n",
    "        try:\n",
    "            return optimize.newton(lambda r: xnpv(r,cashflows),guess)\n",
    "        except:\n",
    "            print('Calc Wrong')\n",
    "\n",
    "    loan_amount = amount\n",
    "    rate = interest_rate\n",
    "    initial_investment = -loan_amount\n",
    "    monthly_Payment = loan_amount * rate * (30/360)\n",
    "    last_payment = loan_amount + monthly_Payment\n",
    "    date_list =['2021-01-06', '2021-01-07', '2021-01-08', '2021-01-09', '2021-01-10', '2021-01-11', '2021-01-12', '2022-01-01', '2022-01-02', '2022-01-03', '2022-01-04', '2022-01-05', '2022-01-06']\n",
    "    ids_list = [1,2,3,4,5,6,7,8,9,10,11,12,13]\n",
    "    flows_list = [ initial_investment, monthly_Payment, monthly_Payment, monthly_Payment, monthly_Payment, monthly_Payment, monthly_Payment, monthly_Payment, monthly_Payment, monthly_Payment,  monthly_Payment, monthly_Payment, last_payment]\n",
    "    df = pd.DataFrame(list(zip(date_list,ids_list,flows_list)), columns=['Date','ID','Flow'])\n",
    "    df['Date'] = pd.to_datetime(df['Date']).dt.date\n",
    "    data = list(zip(df['Date'].values,df['Flow'].values))\n",
    "    value = xirr(data)\n",
    "    return round((value * amount * duration),2)"
   ]
  },
  {
   "cell_type": "code",
   "execution_count": null,
   "metadata": {},
   "outputs": [],
   "source": [
    "# GET TICKERS\n",
    "tickers = input('what do you want to invest in?').split()"
   ]
  },
  {
   "cell_type": "code",
   "execution_count": null,
   "metadata": {},
   "outputs": [],
   "source": [
    "# GET CAPITAL AMOUNT TO BE INVESTED\n",
    "capital = int(input('how much do you have to invest?'))"
   ]
  },
  {
   "cell_type": "code",
   "execution_count": null,
   "metadata": {},
   "outputs": [],
   "source": [
    "# GET YEARLY DURATION FOR FORECASTING\n",
    "duration = int(input('in years, chose a duration for the forecasting'))"
   ]
  },
  {
   "cell_type": "code",
   "execution_count": null,
   "metadata": {},
   "outputs": [],
   "source": [
    "# GET HISTORIAL DATA FROM YAHOO FINANCE FOR ASSETS CHOSEN\n",
    "df_portfolio = yf.download(tickers, start='2019-03-20', end='2020-03-20')"
   ]
  },
  {
   "cell_type": "code",
   "execution_count": null,
   "metadata": {},
   "outputs": [],
   "source": [
    "# CREATE DATAFRAME OF JUST CLOSING PRICES\n",
    "df_closing = df_portfolio['Adj Close'].dropna()"
   ]
  },
  {
   "cell_type": "code",
   "execution_count": null,
   "metadata": {},
   "outputs": [],
   "source": [
    "# CALCULATE DAILY RETURNS\n",
    "daily_returns = df_closing.pct_change().dropna()"
   ]
  },
  {
   "cell_type": "code",
   "execution_count": null,
   "metadata": {},
   "outputs": [],
   "source": [
    "# CALCULATE CORRELATION OF ASSETS \n",
    "correlations = daily_returns.corr()"
   ]
  },
  {
   "cell_type": "code",
   "execution_count": null,
   "metadata": {},
   "outputs": [],
   "source": [
    "# CALCULATE ANNUALIZED STANDARD DEVIATION OF ASSETS\n",
    "std_deviations = daily_returns.std()\n",
    "annualized_std = (std_deviations * np.sqrt(252)).sort_values(ascending=False)"
   ]
  },
  {
   "cell_type": "code",
   "execution_count": null,
   "metadata": {},
   "outputs": [],
   "source": [
    "# CALCULATE SHARP RATIOS\n",
    "sharpe_ratios = ((daily_returns.mean() * 252)) / (daily_returns.std() * np.sqrt(252))"
   ]
  },
  {
   "cell_type": "code",
   "execution_count": null,
   "metadata": {},
   "outputs": [],
   "source": [
    "# CREATE WEIGHTS FOR PORTFOLIOS\n",
    "low_risk_weights = [.05, .1, .15, .2, .5]\n",
    "med_risk_weights = [.1, .15, .2, .25, .3]\n",
    "high_risk_weights = [.3, .25, .2, .15, .1]\n",
    "\n",
    "# LIST OF ASSETS IN ORDER OF MOST VOLATILE TO LEAST VOLATILE \n",
    "volatitly_ranks = annualized_std.index.to_list()\n",
    "\n",
    "# DAILY RETURNS DATAFRAME REORDERED IN TERMS OF VOLATILITY\n",
    "ordered_volatility_df_pct = pd.concat([daily_returns[volatitly_ranks[0]], daily_returns[volatitly_ranks[1]],daily_returns[volatitly_ranks[2]],daily_returns[volatitly_ranks[3]],daily_returns[volatitly_ranks[4]]], axis=1, join='inner')\n",
    "\n",
    "#CLOSING PRICES DATAFRAME REORDERED IN TERMS OF VOLATILITY\n",
    "ordered_volatility_df_closing = pd.concat([df_closing[volatitly_ranks[0]], df_closing[volatitly_ranks[1]],df_closing[volatitly_ranks[2]],df_closing[volatitly_ranks[3]],df_closing[volatitly_ranks[4]]], axis=1, join='inner')\n",
    "\n",
    "# RISK APPETITE PORTOLIOS USING DAILY RETURNS DATA\n",
    "low_risk_portfolio_pct = ordered_volatility_df_pct.dot(low_risk_weights)\n",
    "med_risk_portfolio_pct = ordered_volatility_df_pct.dot(med_risk_weights)\n",
    "high_risk_portfolio_pct = ordered_volatility_df_pct.dot(high_risk_weights)\n",
    "\n",
    "# RISK APPETITE PORTOLIOS USING CLOSE PRICES DATA\n",
    "low_risk_portfolio_close = ordered_volatility_df_closing.dot(low_risk_weights)\n",
    "med_risk_portfolio_close = ordered_volatility_df_closing.dot(med_risk_weights)\n",
    "high_risk_portfolio_close = ordered_volatility_df_closing.dot(high_risk_weights)"
   ]
  },
  {
   "cell_type": "code",
   "execution_count": null,
   "metadata": {},
   "outputs": [],
   "source": [
    "# CALCULATE CUMULATIVE RETURNS FOR ALL PORTFOLIOS (DAILY RETURNS DATA)\n",
    "low_risk_cumulative_returns = (1 + low_risk_portfolio_pct).cumprod() - 1\n",
    "med_risk_cumulative_returns = (1 + med_risk_portfolio_pct).cumprod() - 1\n",
    "high_risk_cumulative_returns = (1 + high_risk_portfolio_pct).cumprod() - 1"
   ]
  },
  {
   "cell_type": "code",
   "execution_count": null,
   "metadata": {},
   "outputs": [],
   "source": [
    "# CREATE MULTI LEVEL DATAFRAME FOR MONTE CARLO SIMULATIONS\n",
    "multi_level = pd.concat([ordered_volatility_df_closing], axis=1, keys=['close']).swaplevel(0,1,1)"
   ]
  },
  {
   "cell_type": "code",
   "execution_count": null,
   "metadata": {},
   "outputs": [],
   "source": [
    "# CREATE MC INSTANCES OF LOW, MED AND HIGH WEIGHTS\n",
    "\n",
    "MC_low_risk = MCSimulation(\n",
    "    portfolio_data = multi_level,\n",
    "    weights = low_risk_weights,\n",
    "    num_simulation = 100,\n",
    "    num_trading_days = 252*duration\n",
    ")\n",
    "\n",
    "MC_med_risk = MCSimulation(\n",
    "    portfolio_data = multi_level,\n",
    "    weights = med_risk_weights,\n",
    "    num_simulation = 100,\n",
    "    num_trading_days = 252*duration\n",
    ")\n",
    "\n",
    "MC_high_risk = MCSimulation(\n",
    "    portfolio_data = multi_level,\n",
    "    weights = high_risk_weights,\n",
    "    num_simulation = 100,\n",
    "    num_trading_days = 252*duration\n",
    ")"
   ]
  },
  {
   "cell_type": "code",
   "execution_count": null,
   "metadata": {},
   "outputs": [],
   "source": [
    "# RUN MONTE CARLO CUMULATIVE RETURN FOR LOW RISK\n",
    "MC_low_risk.calc_cumulative_return()"
   ]
  },
  {
   "cell_type": "code",
   "execution_count": null,
   "metadata": {},
   "outputs": [],
   "source": [
    "# RUN MONTE CARLO CUMULATIVE RETURN FOR MEDIUM RISK\n",
    "MC_med_risk.calc_cumulative_return()"
   ]
  },
  {
   "cell_type": "code",
   "execution_count": null,
   "metadata": {},
   "outputs": [],
   "source": [
    "# RUN MONTE CARLO CUMULATIVE RETURN FOR HIGH RISK\n",
    "MC_high_risk.calc_cumulative_return()"
   ]
  },
  {
   "cell_type": "code",
   "execution_count": null,
   "metadata": {},
   "outputs": [],
   "source": [
    "# CREATE SUMMARY STATS FOR EACH MONTE CARLO SIMULATION\n",
    "low_risk_table = MC_low_risk.summarize_cumulative_return()\n",
    "med_risk_table = MC_med_risk.summarize_cumulative_return()\n",
    "high_risk_table = MC_high_risk.summarize_cumulative_return()"
   ]
  },
  {
   "cell_type": "code",
   "execution_count": null,
   "metadata": {},
   "outputs": [],
   "source": [
    "# RISK/ASSET ANALYSIS VISUALIZATIONS\n",
    "daily_returns_hist = daily_returns.hvplot.hist(bins=100, figsize=(25,10))\n",
    "closing_prices_line = df_closing.hvplot.line(figsize=(25,10),logy=True)\n",
    "correlations_heatmap = correlations.hvplot.heatmap(cmap=[\"#75968f\", \"#a5bab7\", \"#c9d9d3\", \"#e2e2e2\", \"#dfccce\", \"#ddb7b1\", \"#cc7878\", \"#933b41\", \"#550b1d\"])\n",
    "std_devs_bar = annualized_std.hvplot.bar()\n",
    "sharp_ratios_bar = sharpe_ratios.hvplot.bar()\n",
    "\n",
    "# PORTFOLIO PERFORMANCE VISUALIZATIONS\n",
    "low_risk_close_plot = low_risk_portfolio_close.hvplot.line(label=\"Low Risk\").opts(show_legend=True)\n",
    "med_risk_close_plot = med_risk_portfolio_close.hvplot.line(label=\"Medium Risk\").opts(show_legend=True)\n",
    "high_risk_close_plot = high_risk_portfolio_close.hvplot.line(label=\"High Risk\").opts(show_legend=True)\n",
    "portfolios_plot_close_data = (low_risk_close_plot * med_risk_close_plot * high_risk_close_plot).opts(legend_position=\"top_left\")\n",
    "\n",
    "low_risk_cumulative_plot = low_risk_cumulative_returns.hvplot(label=\"Low Risk\").opts(show_legend=True)\n",
    "med_risk_cumulative_plot = med_risk_cumulative_returns.hvplot(label=\"Medium Risk\").opts(show_legend=True)\n",
    "high_risk_cumulative_plot = high_risk_cumulative_returns.hvplot(label=\"High Risk\").opts(show_legend=True)\n",
    "portfolios_plot_cumulative_data = (low_risk_cumulative_plot * med_risk_cumulative_plot * high_risk_cumulative_plot).opts(legend_position=\"top_left\")\n",
    "\n",
    "# MONTE CARLO VISUALIZATIONS\n",
    "low_returns_data = {\n",
    "    \"mean\": list(MC_low_risk.simulated_return.mean(axis=1)),\n",
    "    \"median\":list(MC_low_risk.simulated_return.median(axis=1)),\n",
    "    \"max\":list(MC_low_risk.simulated_return.max(axis=1)),\n",
    "    \"min\":list(MC_low_risk.simulated_return.min(axis=1))\n",
    "}\n",
    "low_return_df = pd.DataFrame(low_returns_data)\n",
    "low_risk_MC_plot = low_return_df.hvplot()\n",
    "\n",
    "medium_returns_data = {\n",
    "    \"mean\": list(MC_med_risk.simulated_return.mean(axis=1)),\n",
    "    \"median\":list(MC_med_risk.simulated_return.median(axis=1)),\n",
    "    \"max\":list(MC_med_risk.simulated_return.max(axis=1)),\n",
    "    \"min\":list(MC_med_risk.simulated_return.min(axis=1))\n",
    "}\n",
    "medium_return_df = pd.DataFrame(medium_returns_data)\n",
    "med_risk_MC_plot = medium_return_df.hvplot()\n",
    "\n",
    "high_returns_data = {\n",
    "    \"mean\": list(MC_high_risk.simulated_return.mean(axis=1)),\n",
    "    \"median\":list(MC_high_risk.simulated_return.median(axis=1)),\n",
    "    \"max\":list(MC_high_risk.simulated_return.max(axis=1)),\n",
    "    \"min\":list(MC_high_risk.simulated_return.min(axis=1))\n",
    "}\n",
    "high_return_df = pd.DataFrame(high_returns_data)\n",
    "high_risk_MC_plot = high_return_df.hvplot()"
   ]
  },
  {
   "cell_type": "code",
   "execution_count": null,
   "metadata": {},
   "outputs": [],
   "source": [
    "portfolios_plot_cumulative_data"
   ]
  },
  {
   "cell_type": "code",
   "execution_count": null,
   "metadata": {},
   "outputs": [],
   "source": [
    "def lendingViz():\n",
    "    return interact(return_on_lending, amount=(capital*.2,capital*.5), interest_rate=0.04, duration=duration )"
   ]
  },
  {
   "cell_type": "code",
   "execution_count": null,
   "metadata": {},
   "outputs": [],
   "source": [
    "# DASHBOARD CREATION\n",
    "\n",
    "daily_returns_col = pn.Column('## Daily Returns', daily_returns_hist)\n",
    "sharp_ratios_col = pn.Column('## Sharp Ratios', sharp_ratios_bar)\n",
    "daily_closing_col = pn.Column('## Closing Prices', closing_prices_line)\n",
    "std_dev_col = pn.Column('## Annualized STDs', std_devs_bar)\n",
    "correlations_col = pn.Column('## Correlations', correlations_heatmap)\n",
    "low_risk_mc_col = pn.Column('## Monte Carlo Low Risk Portfolio', low_risk_MC_plot)\n",
    "med_risk_mc_col = pn.Column('## Monte Carlo Medium Risk Portfolio', med_risk_MC_plot)\n",
    "high_risk_mc_col = pn.Column('## Monte Carlo High Risk Portfolio', high_risk_MC_plot)\n",
    "\n",
    "portfolio_close_col = pn.Column('## Portfolio Close Data', portfolios_plot_close_data)\n",
    "portfolio_cumulative_col = pn.Column('## Portfolio Cumulative Returns', portfolios_plot_cumulative_data)\n",
    "\n",
    "risk_analysis_tabs = pn.Tabs(\n",
    "    ('Closing Prices', daily_closing_col),\n",
    "    ('Daily Returns', daily_returns_col),\n",
    "    ('Sharp Ratios', sharp_ratios_col),\n",
    "    ('Standard Deviations', std_dev_col),\n",
    "    ('Correlations', correlations_col)\n",
    ")\n",
    "\n",
    "lending_tab = pn.Tabs(\n",
    "    ('Lending Interaction', lendingViz())\n",
    ")\n",
    "\n",
    "portfolio_performace_tab = pn.Tabs(\n",
    "    ('Daily Closes', portfolio_close_col),\n",
    "    ('Cumulative Returns', portfolio_cumulative_col)\n",
    ")\n",
    "\n",
    "mc_tab = pn.Tabs(\n",
    "    ('Low', low_risk_mc_col),\n",
    "    ('Medium', med_risk_mc_col),\n",
    "    ('High', high_risk_mc_col)\n",
    ")\n",
    "mainTabs = pn.Tabs(\n",
    "    ('Risk Analysis', risk_analysis_tabs),\n",
    "    ('Performance', portfolio_performace_tab),\n",
    "    ('Monte Carlo', mc_tab),\n",
    "    ('Lending', lending_tab)\n",
    ")\n",
    "dashboard = pn.Column('# Analysis', mainTabs)"
   ]
  },
  {
   "cell_type": "code",
   "execution_count": null,
   "metadata": {},
   "outputs": [],
   "source": [
    "dashboard"
   ]
  },
  {
   "cell_type": "code",
   "execution_count": null,
   "metadata": {},
   "outputs": [],
   "source": [
    " # Use the lower and upper `95%` confidence intervals to calculate the range of the possible outcomes of our $15,000 investments in stocks\n",
    "def mc_and_lending_summary(capital, duration):\n",
    "    \n",
    "    low_risk_investment_amount = capital * .8\n",
    "    low_risk_lending_amount = capital * .2\n",
    "    \n",
    "    med_risk_investment_amount = capital * .6\n",
    "    med_risk_lending_amount = capital * .4\n",
    "    \n",
    "    high_risk_investment_amount = capital * .5\n",
    "    high_risk_lending_amount = capital * .5\n",
    "    \n",
    "    low_risk_ci_lower = round(low_risk_table[8]*low_risk_investment_amount,2)\n",
    "    low_risk_ci_upper = round(low_risk_table[9]*low_risk_investment_amount,2)\n",
    "    med_risk_ci_lower = round(med_risk_table[8]*med_risk_investment_amount,2)\n",
    "    med_risk_ci_upper = round(med_risk_table[9]*med_risk_investment_amount,2)\n",
    "    high_risk_ci_lower = round(high_risk_table[8]*high_risk_investment_amount,2)\n",
    "    high_risk_ci_upper = round(high_risk_table[9]*high_risk_investment_amount,2)\n",
    "    \n",
    "    low_risk_lending_profit = return_on_lending(low_risk_lending_amount, .04, duration)\n",
    "    med_risk_lending_profit = return_on_lending(med_risk_lending_amount, .04, duration)\n",
    "    high_risk_lending_profit = return_on_lending(high_risk_lending_amount, .04, duration)\n",
    "    # Print results\n",
    "    print(\n",
    "          f\"There is a 95% chance that an initial investment of ${low_risk_investment_amount} in the low risk portfolio\"\n",
    "          f\" over the next 5 years will end within in the range of\"\n",
    "          f\" ${low_risk_ci_lower} and ${low_risk_ci_upper}. \"\n",
    "          f\"Additionally, lending ${low_risk_lending_amount} would yield ${low_risk_lending_profit} in profit.\" \n",
    "         )\n",
    "    print(\n",
    "          f\"There is a 95% chance that an initial investment of ${med_risk_investment_amount} in the medium risk portfolio\"\n",
    "          f\" over the next 5 years will end within in the range of\"\n",
    "          f\" ${med_risk_ci_lower} and ${med_risk_ci_upper}. \"\n",
    "          f\"Additionally, lending ${med_risk_lending_amount} would yield ${med_risk_lending_profit} in profit.\"\n",
    "         )\n",
    "\n",
    "    print(\n",
    "          f\"There is a 95% chance that an initial investment of ${high_risk_investment_amount} in the high risk portfolio\"\n",
    "          f\" over the next 5 years will end within in the range of\"\n",
    "          f\" ${high_risk_ci_lower} and ${high_risk_ci_upper}. \"\n",
    "          f\"Additionally, lending ${high_risk_lending_amount} would yield ${high_risk_lending_profit} in profit.\" \n",
    "         )"
   ]
  },
  {
   "cell_type": "code",
   "execution_count": null,
   "metadata": {},
   "outputs": [],
   "source": [
    "mc_and_lending_summary(capital, duration)"
   ]
  },
  {
   "cell_type": "code",
   "execution_count": null,
   "metadata": {},
   "outputs": [],
   "source": []
  }
 ],
 "metadata": {
  "kernelspec": {
   "display_name": "Python 3",
   "language": "python",
   "name": "python3"
  },
  "language_info": {
   "codemirror_mode": {
    "name": "ipython",
    "version": 3
   },
   "file_extension": ".py",
   "mimetype": "text/x-python",
   "name": "python",
   "nbconvert_exporter": "python",
   "pygments_lexer": "ipython3",
   "version": "3.7.9"
  }
 },
 "nbformat": 4,
 "nbformat_minor": 4
}
