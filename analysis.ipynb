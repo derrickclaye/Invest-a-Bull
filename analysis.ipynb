{
 "cells": [
  {
   "cell_type": "code",
   "execution_count": 3,
   "id": "59b11814-b428-4230-9bb5-afd3ad7db70d",
   "metadata": {},
   "outputs": [],
   "source": [
    "import pandas as pd\n",
    "import alpaca_trade_api as tradeapi\n",
    "import requests\n",
    "from dotenv import load_dotenv\n",
    "import os\n",
    "\n",
    "%matplotlib inline"
   ]
  },
  {
   "cell_type": "code",
   "execution_count": 4,
   "id": "04bafe36-e755-4c2a-a141-f1ceb0ca429f",
   "metadata": {},
   "outputs": [
    {
     "data": {
      "text/plain": [
       "True"
      ]
     },
     "execution_count": 4,
     "metadata": {},
     "output_type": "execute_result"
    }
   ],
   "source": [
    "load_dotenv(\"DLC.env\")"
   ]
  },
  {
   "cell_type": "code",
   "execution_count": 6,
   "id": "49d3d9d1-43a8-4efd-9cc5-e15b2cd2ee88",
   "metadata": {},
   "outputs": [],
   "source": [
    "API_KEY = os.getenv(\"ALPACA_API_KEY\")\n",
    "API_SECRET = os.getenv(\"ALPACA_SECRET_KEY\")"
   ]
  },
  {
   "cell_type": "code",
   "execution_count": 8,
   "id": "ced4bb0e-dfa5-4cbb-bc93-0c8193bb78f0",
   "metadata": {},
   "outputs": [],
   "source": [
    "alpaca = tradeapi.REST(\n",
    "    API_KEY,\n",
    "    API_SECRET,\n",
    "    api_version=\"v2\")"
   ]
  },
  {
   "cell_type": "code",
   "execution_count": 9,
   "id": "1d5dbdde-fbe5-4dcb-b51c-2015ecda67a0",
   "metadata": {},
   "outputs": [],
   "source": [
    "tickers = [\"FB\", \"TWTR\"]"
   ]
  },
  {
   "cell_type": "code",
   "execution_count": null,
   "id": "867bb5df-23b4-4c3f-8283-6be39b869b3e",
   "metadata": {},
   "outputs": [],
   "source": [
    "# As an investor the user provides us with 5 assets they want to invest in\n",
    "\n",
    "# STEP 1 - show the investor the risk assessment of investing in these assets\n",
    "# retrieve data set\n",
    "# calculate percent change (daily returns)\n",
    "# 1st visualization - plot daily returns, possibly plot correlatiob of assets as well\n",
    "# calculate std from daily returns \n",
    "# calculate annualized std then rank assets in terms of riskiness\n",
    "# calculate sharp ratios \n",
    "# 2nd visualization - plot annualized standard deviations and sharp ratios\n",
    "\n",
    "# STEP 2 - create sample portfolios\n",
    "# create 3 porfolios based on risk appetite\n",
    "# 1st -> highest std , 5th -> lowest std\n",
    "# $10000 investment \n",
    "# low risk portfolio - [1st - 5%, 2nd - 10%, 3rd - 15%, 4th- 20%, 5th - 50%] -- 80% investment , 20% lending\n",
    "# medium risk portfolio - [1st - 10%, 2nd - 15%, 3rd - 20%, 4th- 25%, 5th - 30%] -- 60% investment , 40% lending\n",
    "# high risk portfolio - [1st - 30%, 2nd - 25%, 3rd -20%, 4th- 15%, 5th - 10%] -- 50% investment , 50% lending\n",
    "# ex. weights = [.05, .1, .15, .2, .5] --> daily_returns.dot(weights)\n",
    "\n",
    "# STEP 3 - calculate cumulative returns from each portfolio\n",
    "# calculate returns for each risk scenario using different weights\n",
    "# calculate cumulative returns for each scenario\n",
    "# show and calculate monte carlo simulation\n",
    "# 3rd visualization - plot cumulative returns\n",
    "\n"
   ]
  },
  {
   "cell_type": "code",
   "execution_count": 1,
   "id": "f302e4b8-0145-4788-bf82-d3803d9f20e9",
   "metadata": {},
   "outputs": [
    {
     "name": "stdin",
     "output_type": "stream",
     "text": [
      "what do you want to invest in? BTC, ETH, LTC, AAPL, AMZN\n"
     ]
    }
   ],
   "source": [
    "tickers = input('what do you want to invest in?')"
   ]
  },
  {
   "cell_type": "code",
   "execution_count": 6,
   "id": "aecc0425-ff1f-4643-964b-b577cb786dc7",
   "metadata": {},
   "outputs": [
    {
     "name": "stdin",
     "output_type": "stream",
     "text": [
      "how much do you have to invest? 10000\n"
     ]
    }
   ],
   "source": [
    "capital = input('how much do you have to invest?')"
   ]
  },
  {
   "cell_type": "code",
   "execution_count": null,
   "id": "b520eba8-37d6-4733-8600-f75b50cb7e08",
   "metadata": {},
   "outputs": [],
   "source": [
    "calculate(tickers, capital)"
   ]
  }
 ],
 "metadata": {
  "kernelspec": {
   "display_name": "Python 3",
   "language": "python",
   "name": "python3"
  },
  "language_info": {
   "codemirror_mode": {
    "name": "ipython",
    "version": 3
   },
   "file_extension": ".py",
   "mimetype": "text/x-python",
   "name": "python",
   "nbconvert_exporter": "python",
   "pygments_lexer": "ipython3",
   "version": "3.8.5"
  }
 },
 "nbformat": 4,
 "nbformat_minor": 5
}
